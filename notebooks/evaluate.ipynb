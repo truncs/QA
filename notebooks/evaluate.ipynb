{
 "cells": [
  {
   "cell_type": "code",
   "execution_count": 20,
   "metadata": {
    "collapsed": false
   },
   "outputs": [],
   "source": [
    "from qa_model import QASystem, Encoder, Decoder\n",
    "from train import create_hparams, initialize_vocab\n",
    "from train import FLAGS\n"
   ]
  },
  {
   "cell_type": "code",
   "execution_count": 21,
   "metadata": {
    "collapsed": false
   },
   "outputs": [],
   "source": [
    "hparams = create_hparams(FLAGS)"
   ]
  },
  {
   "cell_type": "code",
   "execution_count": 23,
   "metadata": {
    "collapsed": false
   },
   "outputs": [],
   "source": [
    "hparams.batch_size = 1\n",
    "hparams.input_keep_prob = 1.0\n"
   ]
  },
  {
   "cell_type": "code",
   "execution_count": 15,
   "metadata": {
    "collapsed": true
   },
   "outputs": [],
   "source": [
    "val_p_file = './data/squad/val.ids.context'\n",
    "val_q_file = './data/squad/val.ids.question'\n",
    "val_span = './data/squad/val.span'\n"
   ]
  },
  {
   "cell_type": "code",
   "execution_count": 24,
   "metadata": {
    "collapsed": false
   },
   "outputs": [],
   "source": [
    "vocab, rev_vocab = initialize_vocab('./data/squad/vocab.dat')\n",
    "hparams.add_hparam('vocab_size', len(vocab))"
   ]
  },
  {
   "cell_type": "code",
   "execution_count": 25,
   "metadata": {
    "collapsed": false
   },
   "outputs": [],
   "source": [
    "encoder = Encoder(size=FLAGS.state_size, vocab_dim=FLAGS.embedding_size)\n",
    "decoder = Decoder(state_size=FLAGS.state_size)\n",
    "qa = QASystem(encoder, decoder, hparams)"
   ]
  },
  {
   "cell_type": "code",
   "execution_count": 26,
   "metadata": {
    "collapsed": true
   },
   "outputs": [],
   "source": [
    "iterator = qa.make_dataset_iterator(val_p_file, val_q_file, val_span, batch_size=1, epoch_size=1)"
   ]
  },
  {
   "cell_type": "code",
   "execution_count": 27,
   "metadata": {
    "collapsed": true
   },
   "outputs": [],
   "source": [
    "import numpy as np\n",
    "np_embeddings = np.float32(np.load('./data/squad/glove.trimmed.100.npz')['glove'])"
   ]
  },
  {
   "cell_type": "code",
   "execution_count": 28,
   "metadata": {
    "collapsed": true
   },
   "outputs": [],
   "source": [
    "context_tuple, question_tuple, span = iterator.get_next()\n",
    "p, p_mask = context_tuple\n",
    "q, q_mask = question_tuple\n",
    "span = span\n"
   ]
  },
  {
   "cell_type": "code",
   "execution_count": 30,
   "metadata": {
    "collapsed": false
   },
   "outputs": [
    {
     "name": "stdout",
     "output_type": "stream",
     "text": [
      "(?, ?, 100) (?, ?, 100) Flattening\n",
      "(?, ?, 100) (?, ?, 100) Reconstruct\n",
      "(?, ?, 100) (?, ?, 100) Flattening\n",
      "(?, ?, 100) (?, ?, 100) Reconstruct\n",
      "(1, ?, 1400) (1, ?, 1400) Flattening\n",
      "(1, ?, 100) (1, ?, 100) Reconstruct\n"
     ]
    }
   ],
   "source": [
    "qa.setup_system(p, q, p_mask, q_mask, span)"
   ]
  },
  {
   "cell_type": "code",
   "execution_count": 35,
   "metadata": {
    "collapsed": false
   },
   "outputs": [
    {
     "name": "stdout",
     "output_type": "stream",
     "text": [
      "INFO:tensorflow:Restoring parameters from /tmp/cs224n-squad-train/model999.ckpt\n"
     ]
    },
    {
     "name": "stderr",
     "output_type": "stream",
     "text": [
      "INFO:tensorflow:Restoring parameters from /tmp/cs224n-squad-train/model999.ckpt\n"
     ]
    },
    {
     "data": {
      "text/plain": [
       "array([[ 1.51184046,  1.83328331,  1.12435555, ...,  0.36550143,\n",
       "        -0.75359511, -0.68179172],\n",
       "       [ 1.42015517, -0.6002773 , -0.66393876, ...,  1.2193594 ,\n",
       "        -1.34410429, -0.96097118],\n",
       "       [ 0.21964514, -0.98801208, -0.15381271, ...,  2.21488619,\n",
       "        -0.56242007,  0.22986133],\n",
       "       ..., \n",
       "       [ 0.35914558, -0.825854  , -0.13772602, ...,  0.12259456,\n",
       "         0.46273223, -0.86086357],\n",
       "       [ 0.89044452,  0.4215835 , -0.29643965, ..., -1.37525487,\n",
       "         0.42506322,  0.04041158],\n",
       "       [-0.13890173, -0.88782078,  0.92992932, ...,  0.06739603,\n",
       "         1.74034679, -0.39021042]], dtype=float32)"
      ]
     },
     "execution_count": 35,
     "metadata": {},
     "output_type": "execute_result"
    }
   ],
   "source": [
    "import tensorflow as tf\n",
    "\n",
    "saver = tf.train.Saver()\n",
    "\n",
    "sess = tf.InteractiveSession()\n",
    "saver.restore(sess, \"/tmp/cs224n-squad-train/model999.ckpt\")\n",
    "\n",
    "sess.run(qa.embeddings_init, feed_dict={qa.np_embeddings: np_embeddings})\n"
   ]
  },
  {
   "cell_type": "code",
   "execution_count": 58,
   "metadata": {
    "collapsed": false
   },
   "outputs": [
    {
     "name": "stdout",
     "output_type": "stream",
     "text": [
      "[[ 0.04146253  0.02328203  0.01810483  0.01917072  0.01958251  0.01949828\n",
      "   0.0191248   0.01867296  0.01836959  0.01792364  0.017403    0.0168167\n",
      "   0.01639643  0.01621682  0.01602316  0.01551192  0.01525443  0.01495187\n",
      "   0.01502855  0.0145721   0.01438708  0.01415383  0.01400034  0.01373407\n",
      "   0.01351646  0.01347142  0.0132772   0.01302389  0.01291548  0.01301399\n",
      "   0.01284705  0.01278117  0.0123946   0.01225075  0.0122525   0.01218597\n",
      "   0.01203254  0.01173991  0.01159999  0.01158052  0.01134979  0.01129117\n",
      "   0.01130529  0.01114008  0.01101293  0.01087849  0.01084131  0.01049471\n",
      "   0.010285    0.01011071  0.01012389  0.01019453  0.01008709  0.01009129\n",
      "   0.00997854  0.00988227  0.00983194  0.00964774  0.00957082  0.0094921\n",
      "   0.00936988  0.00926387  0.00924258  0.00923668  0.00920125  0.00910131\n",
      "   0.00900699  0.00878848  0.00894843  0.00886413  0.00886639  0.0086796\n",
      "   0.00854938  0.00828797  0.00827471  0.00911004  0.01114771  0.00691099\n",
      "   0.00101428]]\n",
      "[[ 0.0151583   0.01890317  0.01821588  0.01768479  0.01813567  0.01841498\n",
      "   0.01831239  0.01803656  0.01766213  0.01736717  0.01686405  0.01628682\n",
      "   0.01578802  0.01508189  0.01482696  0.01437624  0.0140502   0.01404899\n",
      "   0.01391539  0.01361703  0.01365923  0.01351954  0.01352734  0.0134046\n",
      "   0.01329221  0.0131342   0.0131871   0.01297509  0.01270087  0.01282956\n",
      "   0.01278412  0.01228019  0.01247205  0.01250168  0.01255522  0.01249224\n",
      "   0.0123542   0.01224631  0.01228184  0.01209523  0.01218747  0.01215565\n",
      "   0.01192126  0.01175059  0.01186957  0.01192419  0.01179758  0.01167628\n",
      "   0.01145069  0.01164596  0.01153504  0.01156771  0.0116344   0.01170443\n",
      "   0.01154372  0.0114586   0.0112397   0.01141415  0.01114527  0.01113904\n",
      "   0.01122194  0.01121259  0.01074467  0.01059557  0.01072171  0.0105513\n",
      "   0.01007808  0.00979315  0.00932608  0.00883225  0.00827015  0.00779825\n",
      "   0.00712474  0.00673265  0.00648995  0.00636279  0.00768216  0.02587734\n",
      "   0.0047839 ]]\n",
      "[[ 1988  2768    23  2667   137    39  2535  1560 22647     5  1260  1560\n",
      "      4    61    93  2535    70  1560 12806 26162    31    40   238 10162\n",
      "      6    14  5421  2404  1342  1225 57014 10595   135     5 11711  2343\n",
      "  12223   131  1560  1517     4     8    29   251    63  7400    29 37374\n",
      "  26162     7  7743    61   161  4815  2535     6  2768    23  2667    36\n",
      "    209  2422 30129  7875    15    10 10705  4050    69   649  2768    23\n",
      "   2667     7  1158  6015     7  4546     6]]\n",
      "[[   32    26  2768  2667   525     9  2535    31    40 10162    18]]\n",
      "0 77\n",
      "(1, 79)\n",
      "0.0414625 0.0258773\n",
      "(0, 77)\n"
     ]
    }
   ],
   "source": [
    "feed_dict = {\n",
    "    qa.is_train: False\n",
    " }\n",
    "\n",
    "yp1, yp2, p, q = sess.run([qa.yp1, qa.yp2, qa.p, qa.q], feed_dict=feed_dict)\n",
    "    \n",
    "print yp1\n",
    "print yp2\n",
    "print p\n",
    "print q\n",
    "print np.argmax(yp1), np.argmax(yp2)\n",
    "print np.shape(p)\n",
    "print np.max(yp1), np.max(yp2)\n",
    "max_elems = np.matmul(np.transpose(yp1), yp2)\n",
    "\n",
    "print np.unravel_index(np.argmax(max_elems), np.shape(max_elems))"
   ]
  }
 ],
 "metadata": {
  "kernelspec": {
   "display_name": "Python 2",
   "language": "python",
   "name": "python2"
  },
  "language_info": {
   "codemirror_mode": {
    "name": "ipython",
    "version": 2
   },
   "file_extension": ".py",
   "mimetype": "text/x-python",
   "name": "python",
   "nbconvert_exporter": "python",
   "pygments_lexer": "ipython2",
   "version": "2.7.13"
  }
 },
 "nbformat": 4,
 "nbformat_minor": 0
}
